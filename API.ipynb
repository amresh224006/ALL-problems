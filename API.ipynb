{
  "nbformat": 4,
  "nbformat_minor": 0,
  "metadata": {
    "colab": {
      "provenance": []
    },
    "kernelspec": {
      "name": "python3",
      "display_name": "Python 3"
    },
    "language_info": {
      "name": "python"
    }
  },
  "cells": [
    {
      "cell_type": "code",
      "execution_count": 1,
      "metadata": {
        "colab": {
          "base_uri": "https://localhost:8080/"
        },
        "id": "mekTwMxVyzqO",
        "outputId": "70b5036f-add5-46a0-932e-5b483044ee80"
      },
      "outputs": [
        {
          "output_type": "stream",
          "name": "stdout",
          "text": [
            "Requirement already satisfied: requests in /usr/local/lib/python3.10/dist-packages (2.32.3)\n",
            "Requirement already satisfied: charset-normalizer<4,>=2 in /usr/local/lib/python3.10/dist-packages (from requests) (3.3.2)\n",
            "Requirement already satisfied: idna<4,>=2.5 in /usr/local/lib/python3.10/dist-packages (from requests) (3.8)\n",
            "Requirement already satisfied: urllib3<3,>=1.21.1 in /usr/local/lib/python3.10/dist-packages (from requests) (2.0.7)\n",
            "Requirement already satisfied: certifi>=2017.4.17 in /usr/local/lib/python3.10/dist-packages (from requests) (2024.8.30)\n"
          ]
        }
      ],
      "source": [
        "!pip install requests\n"
      ]
    },
    {
      "cell_type": "code",
      "source": [
        "import requests\n",
        "\n",
        "def get_weather(city_name, api_key):\n",
        "    \"\"\"\n",
        "    Fetches the weather data for a given city using the OpenWeatherMap API.\n",
        "\n",
        "    Args:\n",
        "        city_name (str): The name of the city to fetch the weather for.\n",
        "        api_key (str): Your OpenWeatherMap API key.\n",
        "\n",
        "    Returns:\n",
        "        dict: The weather data if the request is successful, or None if there's an error.\n",
        "    \"\"\"\n",
        "    # Define the API endpoint and parameters\n",
        "    base_url = \"http://api.openweathermap.org/data/2.5/weather\"\n",
        "    params = {\n",
        "        \"q\": city_name,\n",
        "        \"appid\": api_key,\n",
        "        \"units\": \"metric\"  # To get the temperature in Celsius\n",
        "    }\n",
        "\n",
        "    try:\n",
        "        # Make the API call\n",
        "        response = requests.get(base_url, params=params)\n",
        "\n",
        "        # Check if the request was successful\n",
        "        if response.status_code == 200:\n",
        "            data = response.json()  # Parse the response JSON\n",
        "            return data\n",
        "        elif response.status_code == 404:\n",
        "            print(f\"City '{city_name}' not found. Please check the city name.\")\n",
        "        else:\n",
        "            print(f\"Error {response.status_code}: Unable to fetch data.\")\n",
        "    except requests.exceptions.RequestException as e:\n",
        "        # Handle network-related errors\n",
        "        print(f\"An error occurred: {e}\")\n",
        "\n",
        "    return None\n",
        "\n",
        "def display_weather(data):\n",
        "    \"\"\"\n",
        "    Displays weather data in a user-friendly format.\n",
        "\n",
        "    Args:\n",
        "        data (dict): The weather data dictionary.\n",
        "    \"\"\"\n",
        "    if data:\n",
        "        city = data['name']\n",
        "        weather_desc = data['weather'][0]['description'].capitalize()\n",
        "        temp = data['main']['temp']\n",
        "        humidity = data['main']['humidity']\n",
        "        wind_speed = data['wind']['speed']\n",
        "\n",
        "        print(f\"Weather in {city}:\")\n",
        "        print(f\"  Description: {weather_desc}\")\n",
        "        print(f\"  Temperature: {temp}°C\")\n",
        "        print(f\"  Humidity: {humidity}%\")\n",
        "        print(f\"  Wind Speed: {wind_speed} m/s\")\n",
        "    else:\n",
        "        print(\"No weather data to display.\")\n",
        "\n",
        "if __name__ == \"__main__\":\n",
        "    # Get user input for the city\n",
        "    city_name = input(\"Enter the name of the city: \")\n",
        "\n",
        "    # Replace with your OpenWeatherMap API key\n",
        "    api_key = \"your_openweathermap_api_key\"\n",
        "\n",
        "    # Fetch weather data\n",
        "    weather_data = get_weather(city_name, api_key)\n",
        "\n",
        "    # Display the fetched weather data\n",
        "    display_weather(weather_data)\n"
      ],
      "metadata": {
        "id": "4XNFtXG9zSYw"
      },
      "execution_count": null,
      "outputs": []
    }
  ]
}